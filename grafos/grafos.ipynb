{
 "cells": [
  {
   "cell_type": "code",
   "execution_count": 41,
   "metadata": {},
   "outputs": [],
   "source": [
    "class Grafo:\n",
    "    def __init__(self):\n",
    "        self.vertices = {}\n",
    " \n",
    "    def adicionar_vertice(self, v):\n",
    "        if v not in self.vertices:\n",
    "            self.vertices[v] = {}\n",
    " \n",
    "    def adicionar_aresta(self, u, v, peso=0):\n",
    "        if u not in self.vertices:\n",
    "            self.vertices[u] = {}\n",
    "        self.vertices[u][v] = peso\n",
    " \n",
    "    def remover_aresta(self, u, v):\n",
    "        if u in self.vertices and v in self.vertices[u]:\n",
    "            del self.vertices[u][v]\n",
    " \n",
    "    def remover_vertice(self, v):\n",
    "        if v in self.vertices:\n",
    "            del self.vertices[v]\n",
    "        for u in self.vertices:\n",
    "            if v in self.vertices[u]:\n",
    "                del self.vertices[u][v]\n",
    " \n",
    "    def obter_vertices(self):\n",
    "        return list(self.vertices.keys())\n",
    " \n",
    "    def obter_arestas(self):\n",
    "        arestas = []\n",
    "        for u in self.vertices:\n",
    "            for v in self.vertices[u]:\n",
    "                arestas.append((u, v, self.vertices[u][v]))\n",
    "        return arestas\n",
    " \n",
    "    def obter_adjacentes(self, v):\n",
    "        if v in self.vertices:\n",
    "            return list(self.vertices[v].keys())\n",
    " \n",
    "    def existe_aresta(self, u, v):\n",
    "        return u in self.vertices and v in self.vertices[u]\n",
    "    \n",
    "    def bfs(self, v):\n",
    "        visitados = set()\n",
    "        fila = [v]\n",
    "\n",
    "        while fila:\n",
    "            vert = fila.pop(0)\n",
    "            if vert not in visitados:\n",
    "                visitados.add(vert)\n",
    "                print(vert, end=' ')\n",
    "                for adj in self.vertices[vert]:\n",
    "                    if adj not in visitados:\n",
    "                        fila.append(adj)\n",
    "\n",
    "    def dfs(self, v, visitados):\n",
    "        visitados.add(v)\n",
    "        print(v, end=' ')\n",
    "\n",
    "        for adj in self.vertices[v]:\n",
    "            if adj not in visitados:\n",
    "                self.dfs(adj, visitados)\n",
    "\n",
    "                        \n"
   ]
  },
  {
   "cell_type": "code",
   "execution_count": 54,
   "metadata": {},
   "outputs": [],
   "source": [
    "from heapq import heappush, heappop\n",
    "from math import inf\n",
    "\n",
    "def dijkstra(grafo, origem, destino):\n",
    "    # Inicializa as distâncias como infinito para todos os vértices\n",
    "    distancias = {v: inf for v in grafo}\n",
    "    # Define a distância da origem para ela mesma como zero\n",
    "    distancias[origem] = 0\n",
    "    # Inicializa a heap com a origem e sua distância zero\n",
    "    heap = [(0, origem)]\n",
    "    # Inicializa o dicionário de predecessores\n",
    "    predecessores = {}\n",
    "\n",
    "    while heap:\n",
    "        # Remove o vértice com menor distância até o momento\n",
    "        (dist_atual, vert_atual) = heappop(heap)\n",
    "        # Se já visitou o vértice, pula para o próximo\n",
    "        print('>>>>>>>>'+vert_atual)\n",
    "        if vert_atual in predecessores:\n",
    "            continue\n",
    "        # Salva o vértice anterior como predecessor do vértice atual\n",
    "        predecessores[vert_atual] = dist_atual\n",
    "        # Se chegou no destino, retorna o menor caminho encontrado\n",
    "        if vert_atual == destino:\n",
    "            caminho = []\n",
    "            while vert_atual in predecessores:\n",
    "                caminho.insert(0, vert_atual)\n",
    "                vert_atual = predecessores[vert_atual]\n",
    "            caminho.insert(0, origem)\n",
    "            return caminho\n",
    "        # Para cada vizinho do vértice atual, atualiza sua distância se necessário\n",
    "        for (vert_vizinho, dist_vizinho) in grafo[vert_atual].items():\n",
    "            print(vert_vizinho+'<<<<<<<<<<<')\n",
    "            dist_nova = dist_atual + dist_vizinho\n",
    "            if dist_nova < distancias[vert_vizinho]:\n",
    "                print(',......'+vert_vizinho)\n",
    "                distancias[vert_vizinho] = dist_nova\n",
    "                heappush(heap, (dist_nova, vert_vizinho))\n",
    "\n",
    "    # Se chegou aqui, não foi possível encontrar um caminho\n",
    "    return None"
   ]
  },
  {
   "cell_type": "code",
   "execution_count": null,
   "metadata": {},
   "outputs": [],
   "source": [
    ">>>>>>>>C\n",
    "D<<<<<<<<<<<\n",
    ",......D\n",
    "F<<<<<<<<<<<\n",
    ",......F\n",
    "E<<<<<<<<<<<\n",
    ",......E\n",
    ">>>>>>>>F\n",
    "A<<<<<<<<<<<\n",
    ",......A\n",
    ">>>>>>>>E\n",
    "B<<<<<<<<<<<\n",
    ",......B\n",
    ">>>>>>>>D\n",
    "E<<<<<<<<<<<\n",
    ">>>>>>>>A\n",
    "B<<<<<<<<<<<\n",
    "F<<<<<<<<<<<\n",
    ">>>>>>>>B\n",
    "['C', 'B']"
   ]
  },
  {
   "cell_type": "code",
   "execution_count": 42,
   "metadata": {},
   "outputs": [],
   "source": [
    "g = Grafo()\n",
    "g.adicionar_vertice('A')\n",
    "g.adicionar_vertice('B')\n",
    "g.adicionar_vertice('C')\n",
    "g.adicionar_vertice('D')\n",
    "g.adicionar_aresta('A', 'B', 1)\n",
    "g.adicionar_aresta('B', 'C', 2)\n",
    "g.adicionar_aresta('C', 'D', 3)\n",
    "g.adicionar_aresta('B','A')"
   ]
  },
  {
   "cell_type": "code",
   "execution_count": 44,
   "metadata": {},
   "outputs": [],
   "source": [
    "g.adicionar_vertice('E')\n",
    "g.adicionar_vertice('F')\n",
    "g.adicionar_aresta('A','F',2)\n",
    "g.adicionar_aresta('F','A',4)\n",
    "g.adicionar_aresta('C','F',1)\n",
    "g.adicionar_aresta('C','E',2)\n",
    "g.adicionar_aresta('E','B',4)\n",
    "g.adicionar_aresta('D','E',5)"
   ]
  },
  {
   "cell_type": "code",
   "execution_count": 39,
   "metadata": {},
   "outputs": [
    {
     "data": {
      "text/plain": [
       "['D', 'F', 'E']"
      ]
     },
     "execution_count": 39,
     "metadata": {},
     "output_type": "execute_result"
    }
   ],
   "source": [
    "g.obter_adjacentes('C')"
   ]
  },
  {
   "cell_type": "code",
   "execution_count": 55,
   "metadata": {},
   "outputs": [
    {
     "data": {
      "text/plain": [
       "{'A': {'B': 1, 'F': 2},\n",
       " 'B': {'C': 2, 'A': 0},\n",
       " 'C': {'D': 3, 'F': 1, 'E': 2},\n",
       " 'D': {'E': 5},\n",
       " 'E': {'B': 4},\n",
       " 'F': {'A': 4}}"
      ]
     },
     "execution_count": 55,
     "metadata": {},
     "output_type": "execute_result"
    }
   ],
   "source": [
    "g.vertices"
   ]
  },
  {
   "cell_type": "code",
   "execution_count": 38,
   "metadata": {},
   "outputs": [
    {
     "name": "stdout",
     "output_type": "stream",
     "text": [
      "B C A D F E "
     ]
    }
   ],
   "source": [
    "g.bfs('B')"
   ]
  },
  {
   "cell_type": "code",
   "execution_count": 46,
   "metadata": {},
   "outputs": [
    {
     "name": "stdout",
     "output_type": "stream",
     "text": [
      "B C D E F A "
     ]
    }
   ],
   "source": [
    "g.dfs('B',set())"
   ]
  },
  {
   "cell_type": "code",
   "execution_count": 56,
   "metadata": {},
   "outputs": [
    {
     "name": "stdout",
     "output_type": "stream",
     "text": [
      ">>>>>>>>C\n",
      "D<<<<<<<<<<<\n",
      ",......D\n",
      "F<<<<<<<<<<<\n",
      ",......F\n",
      "E<<<<<<<<<<<\n",
      ",......E\n",
      ">>>>>>>>F\n",
      "A<<<<<<<<<<<\n",
      ",......A\n",
      ">>>>>>>>E\n",
      "B<<<<<<<<<<<\n",
      ",......B\n",
      ">>>>>>>>D\n",
      "E<<<<<<<<<<<\n",
      ">>>>>>>>A\n",
      "B<<<<<<<<<<<\n",
      "F<<<<<<<<<<<\n",
      ">>>>>>>>B\n"
     ]
    },
    {
     "data": {
      "text/plain": [
       "['C', 'B']"
      ]
     },
     "execution_count": 56,
     "metadata": {},
     "output_type": "execute_result"
    }
   ],
   "source": [
    "dijkstra(g.vertices,'C','B')"
   ]
  },
  {
   "cell_type": "code",
   "execution_count": 7,
   "metadata": {},
   "outputs": [
    {
     "data": {
      "text/plain": [
       "{'A': {'B': 1}, 'B': {'C': 2, 'A': 0}, 'C': {'D': 3}, 'D': {}}"
      ]
     },
     "execution_count": 7,
     "metadata": {},
     "output_type": "execute_result"
    }
   ],
   "source": [
    "g.vertices"
   ]
  },
  {
   "cell_type": "code",
   "execution_count": 17,
   "metadata": {},
   "outputs": [],
   "source": [
    "class Grafo2:\n",
    "    def __init__(self, n):\n",
    "        self.n = n\n",
    "        self.matriz = [[0 for _ in range(n)] for _ in range(n)]\n",
    " \n",
    "    def adicionar_aresta(self, u, v, peso=1):\n",
    "        self.matriz[u][v] = peso\n",
    " \n",
    "    def remover_aresta(self, u, v):\n",
    "        self.matriz[u][v] = 0\n",
    " \n",
    "    def obter_adjacentes(self, v):\n",
    "        return [i for i in range(self.n) if self.matriz[v][i] != 0]\n",
    " \n",
    "    def existe_aresta(self, u, v):\n",
    "        return self.matriz[u][v] != 0\n"
   ]
  },
  {
   "cell_type": "code",
   "execution_count": 18,
   "metadata": {},
   "outputs": [],
   "source": [
    "g2 = Grafo2(4)\n",
    "g2.adicionar_aresta(0, 1)\n",
    "g2.adicionar_aresta(1, 2)\n",
    "g2.adicionar_aresta(2, 3)\n",
    "g2.adicionar_aresta(2,0)"
   ]
  },
  {
   "cell_type": "code",
   "execution_count": 22,
   "metadata": {},
   "outputs": [
    {
     "data": {
      "text/plain": [
       "[0, 3]"
      ]
     },
     "execution_count": 22,
     "metadata": {},
     "output_type": "execute_result"
    }
   ],
   "source": [
    "g2.obter_adjacentes(2)"
   ]
  }
 ],
 "metadata": {
  "kernelspec": {
   "display_name": "Python 3",
   "language": "python",
   "name": "python3"
  },
  "language_info": {
   "codemirror_mode": {
    "name": "ipython",
    "version": 3
   },
   "file_extension": ".py",
   "mimetype": "text/x-python",
   "name": "python",
   "nbconvert_exporter": "python",
   "pygments_lexer": "ipython3",
   "version": "3.10.8"
  },
  "orig_nbformat": 4
 },
 "nbformat": 4,
 "nbformat_minor": 2
}
